{
  "nbformat": 4,
  "nbformat_minor": 0,
  "metadata": {
    "colab": {
      "provenance": []
    },
    "kernelspec": {
      "name": "python3",
      "display_name": "Python 3"
    },
    "language_info": {
      "name": "python"
    }
  },
  "cells": [
    {
      "cell_type": "code",
      "execution_count": null,
      "metadata": {
        "colab": {
          "base_uri": "https://localhost:8080/"
        },
        "id": "n6LLba4_saEX",
        "outputId": "bc9a4709-37eb-4570-f210-784bb1e01b26"
      },
      "outputs": [
        {
          "output_type": "stream",
          "name": "stdout",
          "text": [
            "Collecting PyMuPDF\n",
            "  Downloading PyMuPDF-1.23.21-cp310-none-manylinux2014_x86_64.whl (4.4 MB)\n",
            "\u001b[2K     \u001b[90m━━━━━━━━━━━━━━━━━━━━━━━━━━━━━━━━━━━━━━━━\u001b[0m \u001b[32m4.4/4.4 MB\u001b[0m \u001b[31m32.7 MB/s\u001b[0m eta \u001b[36m0:00:00\u001b[0m\n",
            "\u001b[?25hCollecting PyMuPDFb==1.23.9 (from PyMuPDF)\n",
            "  Downloading PyMuPDFb-1.23.9-py3-none-manylinux2014_x86_64.manylinux_2_17_x86_64.whl (30.6 MB)\n",
            "\u001b[2K     \u001b[90m━━━━━━━━━━━━━━━━━━━━━━━━━━━━━━━━━━━━━━━━\u001b[0m \u001b[32m30.6/30.6 MB\u001b[0m \u001b[31m45.0 MB/s\u001b[0m eta \u001b[36m0:00:00\u001b[0m\n",
            "\u001b[?25hInstalling collected packages: PyMuPDFb, PyMuPDF\n",
            "Successfully installed PyMuPDF-1.23.21 PyMuPDFb-1.23.9\n"
          ]
        }
      ],
      "source": [
        "!pip install PyMuPDF\n"
      ]
    },
    {
      "cell_type": "code",
      "source": [
        "import fitz\n",
        "import pandas as pd\n",
        "\n",
        "def extract_text_from_pdf(pdf_path):\n",
        "    doc = fitz.open(pdf_path)\n",
        "    text = \"\"\n",
        "    for page in doc:\n",
        "        text += page.get_text()\n",
        "    return text\n",
        "\n",
        "def preprocess_text(text):\n",
        "    lines = text.split('\\n')\n",
        "    cleaned_lines = []\n",
        "    for line in lines:\n",
        "        if not line.startswith(\"Poor Things - Final Cut\"):\n",
        "            cleaned_lines.append(line)\n",
        "    return cleaned_lines\n",
        "\n",
        "def parse_and_classify_screenplay(lines):\n",
        "    elements = []\n",
        "    current_scene = None\n",
        "    current_character = None\n",
        "    buffer_text = \"\"  # To accumulate dialogue or action descriptions\n",
        "    buffer_type = None  # Track the type of the buffered text\n",
        "\n",
        "    for line in lines:\n",
        "        if line.strip().isdigit():  # Skip standalone numbers that might be page numbers\n",
        "            continue\n",
        "        if any(prefix in line for prefix in ('INT', 'EXT')):\n",
        "            if buffer_text:  # Save any buffered text before starting a new scene\n",
        "                elements.append({'Type': buffer_type, 'Scene': current_scene, 'Character': current_character, 'Text': buffer_text})\n",
        "                buffer_text = \"\"\n",
        "            current_scene = line\n",
        "            current_character = None  # Reset character at the start of a new scene\n",
        "            buffer_type = 'Scene Heading'\n",
        "            elements.append({'Type': buffer_type, 'Scene': current_scene, 'Character': None, 'Text': line})\n",
        "            buffer_type = None  # Reset buffer type after adding scene heading\n",
        "        elif line.isupper() and not any(prefix in line for prefix in ('INT', 'EXT')):\n",
        "            if buffer_text:  # Save any buffered text before changing character\n",
        "                elements.append({'Type': buffer_type, 'Scene': current_scene, 'Character': current_character, 'Text': buffer_text})\n",
        "                buffer_text = \"\"\n",
        "            current_character = line\n",
        "            buffer_type = 'Dialogue'\n",
        "        else:\n",
        "            element_type = 'Dialogue' if current_character else 'Action Description'\n",
        "            # If the current line continues the previous type, buffer it; otherwise, save the buffered text and start a new buffer\n",
        "            if element_type == buffer_type or not buffer_text:\n",
        "                buffer_text += (\" \" + line if buffer_text else line)\n",
        "                buffer_type = element_type\n",
        "            else:\n",
        "                elements.append({'Type': buffer_type, 'Scene': current_scene, 'Character': current_character, 'Text': buffer_text})\n",
        "                buffer_text = line\n",
        "                buffer_type = element_type\n",
        "\n",
        "    # Add any remaining buffered text\n",
        "    if buffer_text:\n",
        "        elements.append({'Type': buffer_type, 'Scene': current_scene, 'Character': current_character, 'Text': buffer_text})\n",
        "\n",
        "    return elements\n",
        "\n",
        "# Main process\n",
        "pdf_path = 'Poor-Things-Read-The-Screenplay.pdf'\n",
        "text = extract_text_from_pdf(pdf_path)\n",
        "lines = preprocess_text(text)\n",
        "elements = parse_and_classify_screenplay(lines)\n",
        "\n",
        "# Convert to pandas DataFrame\n",
        "df = pd.DataFrame(elements)\n",
        "\n",
        "# Export to CSV\n",
        "csv_path = 'screenplay_analysis_consolidated.csv'\n",
        "df.to_csv(csv_path, index=False)\n",
        "\n",
        "print(f\"Exported to {csv_path}\")\n"
      ],
      "metadata": {
        "colab": {
          "base_uri": "https://localhost:8080/"
        },
        "id": "Wrs3V9s6aYDo",
        "outputId": "46d14b79-3c3e-4385-99e5-58f0c7b15789"
      },
      "execution_count": null,
      "outputs": [
        {
          "output_type": "stream",
          "name": "stdout",
          "text": [
            "Exported to screenplay_analysis_consolidated.csv\n"
          ]
        }
      ]
    },
    {
      "cell_type": "code",
      "source": [
        "import pandas as pd\n",
        "\n",
        "# Assuming df is your existing DataFrame with the screenplay data\n",
        "\n",
        "# Initialize a new column for scene numbers with zeros\n",
        "df['Scene Number'] = 0\n",
        "\n",
        "# Variable to keep track of the current scene number\n",
        "current_scene_number = 0\n",
        "# Variable to keep track of the last seen scene to detect changes\n",
        "last_scene = None\n",
        "\n",
        "# Iterate through the DataFrame to assign scene numbers\n",
        "for index, row in df.iterrows():\n",
        "    if row['Type'] == 'Scene Heading':\n",
        "        if row['Scene'] != last_scene:  # Check if the scene has changed\n",
        "            current_scene_number += 1  # Increment scene number for a new scene\n",
        "            last_scene = row['Scene']  # Update the last seen scene\n",
        "    df.at[index, 'Scene Number'] = current_scene_number\n",
        "\n",
        "# Now, df has an additional column 'Scene Number' with the scene numbers correctly assigned\n",
        "\n",
        "# Optionally, you can reorder the DataFrame to have 'Scene Number' as one of the first columns if needed\n",
        "df = df[['Scene Number', 'Type', 'Scene', 'Character', 'Text']]\n",
        "\n",
        "# You can then export this updated DataFrame to CSV or perform further analysis\n",
        "csv_path_updated = 'screenplay_analysis_with_scene_numbers.csv'\n",
        "df.to_csv(csv_path_updated, index=False)\n",
        "\n",
        "print(f\"Updated DataFrame exported to {csv_path_updated}\")\n"
      ],
      "metadata": {
        "colab": {
          "base_uri": "https://localhost:8080/"
        },
        "id": "lJk6eHo9aa9Y",
        "outputId": "248b7358-264c-4703-edac-8d8147b95606"
      },
      "execution_count": null,
      "outputs": [
        {
          "output_type": "stream",
          "name": "stdout",
          "text": [
            "Updated DataFrame exported to screenplay_analysis_with_scene_numbers.csv\n"
          ]
        }
      ]
    }
  ]
}